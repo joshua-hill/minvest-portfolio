{
  "nbformat": 4,
  "nbformat_minor": 0,
  "metadata": {
    "colab": {
      "provenance": [],
      "authorship_tag": "ABX9TyN+Dk4dgSlMXIxpYM4Kd3Ai",
      "include_colab_link": true
    },
    "kernelspec": {
      "name": "python3",
      "display_name": "Python 3"
    },
    "language_info": {
      "name": "python"
    }
  },
  "cells": [
    {
      "cell_type": "markdown",
      "metadata": {
        "id": "view-in-github",
        "colab_type": "text"
      },
      "source": [
        "<a href=\"https://colab.research.google.com/github/joshua-hill/minvest-portfolio/blob/main/Minvest_Backend_Task.ipynb\" target=\"_parent\"><img src=\"https://colab.research.google.com/assets/colab-badge.svg\" alt=\"Open In Colab\"/></a>"
      ]
    },
    {
      "cell_type": "code",
      "execution_count": 5,
      "metadata": {
        "id": "5B9fvGh07DEH"
      },
      "outputs": [],
      "source": [
        "import time\n",
        "import pandas as pd\n",
        "import requests\n",
        "from bs4 import BeautifulSoup\n",
        "from datetime import datetime\n",
        "import os\n",
        "\n",
        "api_key = os.getenv['ALPHAVANTAGE-API-KEY']\n",
        "\n"
      ]
    },
    {
      "cell_type": "code",
      "source": [
        "\n",
        "\n",
        "# Function to scrape DJIA stock symbols from Wikipedia\n",
        "def scrape_djia_stocks(url):\n",
        "    try:\n",
        "        # Send a GET request to the Wikipedia page\n",
        "        response = requests.get(url)\n",
        "        # Raise an exception if the request was unsuccessful\n",
        "        response.raise_for_status()\n",
        "\n",
        "        # Parse the page content using BeautifulSoup\n",
        "        soup = BeautifulSoup(response.text, 'html.parser')\n",
        "\n",
        "        # Find the table that contains the DJIA stocks\n",
        "        # The table of interest has the class 'wikitable sortable'\n",
        "        table = soup.find('table', {'class': 'wikitable sortable'})\n",
        "\n",
        "        # Extract the stock symbols from the table\n",
        "        # Assuming the stock symbols are in the first column\n",
        "        stocks = []\n",
        "        for row in table.find_all('tr')[1:]:  # Skip the header row\n",
        "            cells = row.find_all('td')\n",
        "            if len(cells) > 1:  # Make sure there are enough columns\n",
        "                symbol = cells[1].text.strip()\n",
        "                stocks.append(symbol)\n",
        "\n",
        "        return stocks\n",
        "\n",
        "    except requests.HTTPError as http_err:\n",
        "        print(f\"HTTP error occurred: {http_err}\")\n",
        "    except Exception as err:\n",
        "        print(f\"An error occurred: {err}\")\n",
        "\n",
        "# URL of the Wikipedia page containing DJIA stocks\n",
        "djia_url = 'https://en.wikipedia.org/wiki/Dow_Jones_Industrial_Average'\n",
        "\n",
        "# Scrape the stock symbols\n",
        "djia_stocks = scrape_djia_stocks(djia_url)\n",
        "\n",
        "# Check if we got the stock symbols\n",
        "if djia_stocks:\n",
        "    print(\"DJIA Stocks:\", djia_stocks)\n",
        "else:\n",
        "    print(\"Failed to retrieve DJIA stocks.\")\n"
      ],
      "metadata": {
        "colab": {
          "base_uri": "https://localhost:8080/"
        },
        "id": "Wwk59fAS7I4N",
        "outputId": "1fa5a86a-8ee6-4d43-9001-fa604b39de61"
      },
      "execution_count": 2,
      "outputs": [
        {
          "output_type": "stream",
          "name": "stdout",
          "text": [
            "DJIA Stocks: ['MMM', 'AXP', 'AMGN', 'AAPL', 'BA', 'CAT', 'CVX', 'CSCO', 'KO', 'DIS', 'DOW', 'GS', 'HD', 'HON', 'IBM', 'INTC', 'JNJ', 'JPM', 'MCD', 'MRK', 'MSFT', 'NKE', 'PG', 'CRM', 'TRV', 'UNH', 'VZ', 'V', 'WBA', 'WMT']\n"
          ]
        }
      ]
    },
    {
      "cell_type": "code",
      "source": [
        "def get_user_portfolio(djia_stocks):\n",
        "    portfolio = {}\n",
        "    print(\"Please enter the stock symbols from the DJIA that you want to include in your portfolio:\")\n",
        "    print(\"Available symbols:\", ' '.join(djia_stocks))\n",
        "\n",
        "    while True:\n",
        "        # Get user input for stock symbols\n",
        "        user_symbols = input(\"Enter stock symbols separated by space: \").upper().split()\n",
        "\n",
        "        # Validate the entered symbols\n",
        "        invalid_symbols = [symbol for symbol in user_symbols if symbol not in djia_stocks]\n",
        "        if invalid_symbols:\n",
        "            print(\"These symbols are not valid DJIA stocks:\", ' '.join(invalid_symbols))\n",
        "            continue\n",
        "\n",
        "        # Get the number of stocks for each symbol\n",
        "        for symbol in user_symbols:\n",
        "            while True:\n",
        "                try:\n",
        "                    count = int(input(f\"Enter the number of stocks you hold for {symbol}: \"))\n",
        "                    if count < 0:\n",
        "                        print(\"Please enter a positive number.\")\n",
        "                        continue\n",
        "                    portfolio[symbol] = count\n",
        "                    break\n",
        "                except ValueError:\n",
        "                    print(\"That's not a valid number. Please try again.\")\n",
        "\n",
        "        return portfolio\n",
        "\n",
        "# Assuming djia_stocks is the list of stocks scraped from Wikipedia\n",
        "user_portfolio = get_user_portfolio(djia_stocks)\n",
        "print(\"Your portfolio:\", user_portfolio)\n"
      ],
      "metadata": {
        "colab": {
          "base_uri": "https://localhost:8080/"
        },
        "id": "slB69zdE9RMs",
        "outputId": "832fc4f5-3b98-4a12-9ea8-66413bd7f81a"
      },
      "execution_count": 3,
      "outputs": [
        {
          "output_type": "stream",
          "name": "stdout",
          "text": [
            "Please enter the stock symbols from the DJIA that you want to include in your portfolio:\n",
            "Available symbols: MMM AXP AMGN AAPL BA CAT CVX CSCO KO DIS DOW GS HD HON IBM INTC JNJ JPM MCD MRK MSFT NKE PG CRM TRV UNH VZ V WBA WMT\n",
            "Enter stock symbols separated by space: MMM AXP\n",
            "Enter the number of stocks you hold for MMM: 3\n",
            "Enter the number of stocks you hold for AXP: 6\n",
            "Your portfolio: {'MMM': 3, 'AXP': 6}\n"
          ]
        }
      ]
    },
    {
      "cell_type": "code",
      "source": [
        "\n",
        "# Function to prompt the user for a date range\n",
        "def get_date_range():\n",
        "    # Define the default date range\n",
        "    default_start_date = \"01-01-2020\"\n",
        "    default_end_date = \"01-01-2023\"\n",
        "\n",
        "    # Prompt the user for start and end dates\n",
        "    start_date_str = input(f\"Enter the start date (DD-MM-YYYY) or press Enter to use the default ({default_start_date}): \")\n",
        "    end_date_str = input(f\"Enter the end date (DD-MM-YYYY) or press Enter to use the default ({default_end_date}): \")\n",
        "\n",
        "    # Use default dates if the user did not provide any\n",
        "    start_date_str = start_date_str or default_start_date\n",
        "    end_date_str = end_date_str or default_end_date\n",
        "\n",
        "    # Function to validate the date format\n",
        "    def validate_date(date_str):\n",
        "        try:\n",
        "            return datetime.strptime(date_str, \"%d-%m-%Y\")\n",
        "        except ValueError:\n",
        "            print(f\"Date {date_str} is not in the correct format (DD-MM-YYYY).\")\n",
        "            return None\n",
        "\n",
        "    # Validate the start date\n",
        "    start_date = validate_date(start_date_str)\n",
        "    if not start_date:\n",
        "        return None, None\n",
        "\n",
        "    # Validate the end date\n",
        "    end_date = validate_date(end_date_str)\n",
        "    if not end_date:\n",
        "        return None, None\n",
        "\n",
        "    # Check if the start date is before the end date\n",
        "    if start_date >= end_date:\n",
        "        print(\"The start date must be before the end date.\")\n",
        "        return None, None\n",
        "\n",
        "    return start_date, end_date\n",
        "\n",
        "while True:\n",
        "  # Get the date range from the user\n",
        "  start_date, end_date = get_date_range()\n",
        "  # Check if we got valid dates\n",
        "  if start_date and end_date:\n",
        "      print(f\"Start Date: {start_date.strftime('%d-%m-%Y')}\")\n",
        "      print(f\"End Date: {end_date.strftime('%d-%m-%Y')}\")\n",
        "      break\n",
        "  else:\n",
        "      print(\"Invalid date range provided.\")\n",
        "\n",
        "\n",
        "\n",
        "\n",
        "\n"
      ],
      "metadata": {
        "colab": {
          "base_uri": "https://localhost:8080/"
        },
        "id": "odSEYt_ciLhL",
        "outputId": "7f23ddbc-d034-4273-81e2-c08875092b49"
      },
      "execution_count": 4,
      "outputs": [
        {
          "output_type": "stream",
          "name": "stdout",
          "text": [
            "Enter the start date (DD-MM-YYYY) or press Enter to use the default (01-01-2020): \n",
            "Enter the end date (DD-MM-YYYY) or press Enter to use the default (01-01-2023): \n",
            "Start Date: 01-01-2020\n",
            "End Date: 01-01-2023\n"
          ]
        }
      ]
    },
    {
      "cell_type": "code",
      "source": [
        "def inspect_api_response(symbol, api_key):\n",
        "    base_url = \"https://www.alphavantage.co/query\"\n",
        "    params = {\n",
        "        \"function\": \"TIME_SERIES_DAILY_ADJUSTED\",\n",
        "        \"symbol\": symbol,\n",
        "        \"apikey\": api_key\n",
        "    }\n",
        "\n",
        "    response = requests.get(base_url, params=params)\n",
        "    print(f\"Response for {symbol}: {response.json()}\")  # Print the raw JSON response\n"
      ],
      "metadata": {
        "colab": {
          "base_uri": "https://localhost:8080/"
        },
        "id": "mSQLWrLt1-I1",
        "outputId": "e60ba442-495d-4f3c-ef90-59fb3412163b"
      },
      "execution_count": 15,
      "outputs": [
        {
          "output_type": "stream",
          "name": "stdout",
          "text": [
            "Response for DNFHHDHDHDHHFHD: {'Information': 'Thank you for using Alpha Vantage! This is a premium endpoint. You may subscribe to any of the premium plans at https://www.alphavantage.co/premium/ to instantly unlock all premium endpoints'}\n",
            "Response for AXP: {'Information': 'Thank you for using Alpha Vantage! This is a premium endpoint. You may subscribe to any of the premium plans at https://www.alphavantage.co/premium/ to instantly unlock all premium endpoints'}\n"
          ]
        }
      ]
    },
    {
      "cell_type": "code",
      "source": [
        "import datetime\n",
        "\n",
        "def fetch_historical_data(stock_symbols, start_date, end_date, api_key):\n",
        "    if isinstance(start_date, datetime.datetime):\n",
        "        start_date = start_date.date()\n",
        "\n",
        "    if isinstance(end_date, datetime.datetime):\n",
        "        end_date = end_date.date()\n",
        "\n",
        "    base_url = \"https://www.alphavantage.co/query\"\n",
        "    historical_data = {}\n",
        "\n",
        "    for symbol in stock_symbols:\n",
        "        params = {\n",
        "            \"function\": \"TIME_SERIES_DAILY\",\n",
        "            \"symbol\": symbol,\n",
        "            \"outputsize\": \"full\",\n",
        "            \"apikey\": api_key\n",
        "        }\n",
        "\n",
        "        try:\n",
        "            response = requests.get(base_url, params=params)\n",
        "            response.raise_for_status()\n",
        "\n",
        "            try:\n",
        "                data = response.json()\n",
        "            except ValueError as json_err:\n",
        "                print(f\"JSON parsing error for symbol {symbol}: {json_err}\")\n",
        "                continue\n",
        "\n",
        "\n",
        "            time_series = data.get(\"Time Series (Daily)\")\n",
        "\n",
        "            if not time_series:\n",
        "                print(f\"No data found for symbol: {symbol}\")\n",
        "                continue\n",
        "\n",
        "            #Getting data only iwthin the specified date range\n",
        "            filtered_data = {date: values for date, values in time_series.items()\n",
        "                 if start_date <= datetime.datetime.strptime(date, \"%Y-%m-%d\").date() <= end_date}\n",
        "\n",
        "            historical_data[symbol] = filtered_data\n",
        "\n",
        "            time.sleep(12)  # Respect the API rate limit\n",
        "\n",
        "        except requests.HTTPError as http_err:\n",
        "            print(f\"HTTP error occurred for symbol {symbol}: {http_err}\")\n",
        "        except KeyError as key_err:\n",
        "            print(f\"Data format error for symbol {symbol}: {key_err}\")\n",
        "        except Exception as err:\n",
        "            print(f\"An error occurred for symbol {symbol}: {err}\")\n",
        "\n",
        "    combined_data = pd.DataFrame(historical_data)\n",
        "\n",
        "    return combined_data\n",
        "\n",
        "# Example usage:\n",
        "combined_data = fetch_historical_data(user_portfolio, start_date, end_date, api_key)\n"
      ],
      "metadata": {
        "id": "hQBUmCHV4BZ2"
      },
      "execution_count": null,
      "outputs": []
    },
    {
      "cell_type": "code",
      "source": [
        "def calculate_portfolio_metrics(df, portfolio):\n",
        "    try:\n",
        "        # Reverse the DataFrame so that the earliest date is at the top\n",
        "        df = df.iloc[::-1]\n",
        "    except Exception as e:\n",
        "        print(\"Error reversing DataFrame:\", e)\n",
        "        return None\n",
        "\n",
        "    try:\n",
        "        # Transform the DataFrame to contain only closing prices\n",
        "        for symbol in df.columns:\n",
        "            df[symbol] = df[symbol].apply(lambda x: float(x['4. close']))\n",
        "    except Exception as e:\n",
        "        print(\"Error transforming DataFrame:\", e)\n",
        "        return None\n",
        "\n",
        "    try:\n",
        "        # Calculate daily returns\n",
        "        daily_returns = df.pct_change()\n",
        "    except Exception as e:\n",
        "        print(\"Error calculating daily returns:\", e)\n",
        "        return None\n",
        "\n",
        "    try:\n",
        "        # Calculate the total number of shares in the portfolio\n",
        "        total_shares = sum(portfolio.values())\n",
        "\n",
        "        # Calculate weighted daily returns\n",
        "        weighted_daily_returns = daily_returns.copy()\n",
        "        for symbol in df.columns:\n",
        "            if symbol in portfolio:\n",
        "                weighted_daily_returns[symbol] *= (portfolio[symbol] / total_shares)\n",
        "\n",
        "        # Sum the weighted daily returns across all stocks to get the portfolio daily return\n",
        "        portfolio_daily_returns = weighted_daily_returns.sum(axis=1)\n",
        "    except Exception as e:\n",
        "        print(\"Error calculating weighted daily returns:\", e)\n",
        "        return None\n",
        "\n",
        "    try:\n",
        "        # Calculate Mean Daily Return\n",
        "        mean_daily_return = portfolio_daily_returns.mean()\n",
        "    except Exception as e:\n",
        "        print(\"Error calculating mean daily return:\", e)\n",
        "        return None\n",
        "\n",
        "    try:\n",
        "        # Calculate Standard Deviation of Daily Returns\n",
        "        std_dev_daily_returns = portfolio_daily_returns.std()\n",
        "    except Exception as e:\n",
        "        print(\"Error calculating standard deviation of daily returns:\", e)\n",
        "        return None\n",
        "\n",
        "    try:\n",
        "        # Calculate Cumulative Returns\n",
        "        cumulative_returns = (1 + portfolio_daily_returns).cumprod() - 1\n",
        "\n",
        "        # Check if cumulative_returns is empty\n",
        "        if cumulative_returns.empty:\n",
        "            print(\"Cumulative returns DataFrame is empty.\")\n",
        "            return None\n",
        "\n",
        "        # Check the shape of cumulative_returns\n",
        "        print(\"Shape of cumulative_returns:\", cumulative_returns.shape)\n",
        "\n",
        "        # Attempt to access the last value\n",
        "        try:\n",
        "            total_cumulative_return = cumulative_returns.iloc[-1]\n",
        "        except IndexError as e:\n",
        "            print(\"IndexError when accessing the last element of cumulative_returns:\", e)\n",
        "            print(\"Content of cumulative_returns:\\n\", cumulative_returns)\n",
        "            return None\n",
        "    except Exception as e:\n",
        "        print(\"Error calculating cumulative returns:\", e)\n",
        "        return None\n",
        "\n",
        "    return mean_daily_return, std_dev_daily_returns, total_cumulative_return\n",
        "\n",
        "# Output\n",
        "try:\n",
        "    df_copy = combined_data.copy()\n",
        "    mean_daily_return, std_dev_daily_returns, total_cumulative_return = calculate_portfolio_metrics(df_copy, user_portfolio)\n",
        "    print(\"Mean Daily Return:\", mean_daily_return)\n",
        "    print(\"Standard Deviation of Daily Returns:\", std_dev_daily_returns)\n",
        "    print(\"Cumulative Return:\", total_cumulative_return)\n",
        "except Exception as e:\n",
        "    print(\"Error in portfolio metrics calculation:\", e)\n"
      ],
      "metadata": {
        "id": "y0KLP8YfQAk1"
      },
      "execution_count": null,
      "outputs": []
    },
    {
      "cell_type": "code",
      "source": [],
      "metadata": {
        "id": "Bu_BoCOm8SiU"
      },
      "execution_count": null,
      "outputs": []
    }
  ]
}